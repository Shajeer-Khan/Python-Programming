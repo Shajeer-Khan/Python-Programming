{
  "nbformat": 4,
  "nbformat_minor": 0,
  "metadata": {
    "colab": {
      "provenance": [],
      "authorship_tag": "ABX9TyOP3ABJcYisTHcrpWhaa4QX",
      "include_colab_link": true
    },
    "kernelspec": {
      "name": "python3",
      "display_name": "Python 3"
    },
    "language_info": {
      "name": "python"
    }
  },
  "cells": [
    {
      "cell_type": "markdown",
      "metadata": {
        "id": "view-in-github",
        "colab_type": "text"
      },
      "source": [
        "<a href=\"https://colab.research.google.com/github/Shajeer-Khan/Python-Programming/blob/main/Class_1.ipynb\" target=\"_parent\"><img src=\"https://colab.research.google.com/assets/colab-badge.svg\" alt=\"Open In Colab\"/></a>"
      ]
    },
    {
      "cell_type": "code",
      "execution_count": 1,
      "metadata": {
        "colab": {
          "base_uri": "https://localhost:8080/"
        },
        "id": "rn2wnGcxGccr",
        "outputId": "2a02af4d-c8b8-49b6-9386-7018db9c1e8f"
      },
      "outputs": [
        {
          "output_type": "stream",
          "name": "stdout",
          "text": [
            "Hello World\n"
          ]
        }
      ],
      "source": [
        "print('Hello World')"
      ]
    },
    {
      "cell_type": "code",
      "source": [
        "# Data Types\n",
        "\n",
        "# 1.String\n",
        "\n",
        "name = 'Shajeer Waqar'\n",
        "print(name)\n",
        "print(type(name))\n",
        "\n",
        "# 2.Integer\n",
        "\n",
        "print('*'* 20)\n",
        "age = 21\n",
        "print(age)\n",
        "print(type(age))\n",
        "\n",
        "# 3.Float\n",
        "\n",
        "height = 5.11\n",
        "print(height)\n",
        "print(type(height))\n",
        "\n",
        "# 4.Boolean\n",
        "\n",
        "nationality = True\n",
        "print(nationality)\n",
        "print(type(nationality))"
      ],
      "metadata": {
        "colab": {
          "base_uri": "https://localhost:8080/"
        },
        "id": "dAXN89ImJH8M",
        "outputId": "752de163-e0f6-4187-8b05-0b13835e723b"
      },
      "execution_count": 8,
      "outputs": [
        {
          "output_type": "stream",
          "name": "stdout",
          "text": [
            "Shajeer Waqar\n",
            "<class 'str'>\n",
            "********************\n",
            "21\n",
            "<class 'int'>\n",
            "5.11\n",
            "<class 'float'>\n",
            "True\n",
            "<class 'bool'>\n"
          ]
        }
      ]
    },
    {
      "cell_type": "code",
      "source": [
        "name = 'Shajeer'\n",
        "print('my name is', name)"
      ],
      "metadata": {
        "colab": {
          "base_uri": "https://localhost:8080/"
        },
        "id": "VjzPPvZEM7o9",
        "outputId": "a8d8cd99-0887-40f2-a5d5-9fd37b4daf68"
      },
      "execution_count": 9,
      "outputs": [
        {
          "output_type": "stream",
          "name": "stdout",
          "text": [
            "my name is Shajeer\n"
          ]
        }
      ]
    },
    {
      "cell_type": "code",
      "source": [
        "# ----------PERSONAL DATA----------\n",
        "name = 'Shajeer Waqar'\n",
        "print('my name is', name)\n",
        "age = 21\n",
        "print('my age is', age)\n",
        "university = 'NED'\n",
        "print(\"I'm studying in\", university)\n",
        "sports = 'cricket'\n",
        "print('I like to Play', sports)"
      ],
      "metadata": {
        "colab": {
          "base_uri": "https://localhost:8080/"
        },
        "id": "uQ2n-XpoNJdh",
        "outputId": "a1accfca-efe6-4e89-84ef-20bafaf0d563"
      },
      "execution_count": 10,
      "outputs": [
        {
          "output_type": "stream",
          "name": "stdout",
          "text": [
            "my name is Shajeer Waqar\n",
            "my age is 21\n",
            "I'm studying in NED\n",
            "I like to Play cricket\n"
          ]
        }
      ]
    },
    {
      "cell_type": "code",
      "source": [
        "# Mathematical Operators:\n",
        "# 1.Addition\n",
        "\n",
        "a = 1\n",
        "b = 2\n",
        "c = a+b\n",
        "print(c)\n",
        "\n",
        "# 2.Substraction\n",
        "\n",
        "a = 1\n",
        "b = 2\n",
        "c = a-b\n",
        "print(c)\n",
        "\n",
        "# 3.Multiplication\n",
        "\n",
        "a = 1\n",
        "b = 2\n",
        "c = a*b\n",
        "print(c)\n",
        "\n",
        "# 4.Division\n",
        "\n",
        "a = 1\n",
        "b = 2\n",
        "c = a/b\n",
        "print(c)\n",
        "\n",
        "# 5.Power\n",
        "\n",
        "a = 1\n",
        "b = 2\n",
        "c = a**b\n",
        "print(c)\n",
        "\n",
        "# 6.Modulous\n",
        "\n",
        "a = 1\n",
        "b = 2\n",
        "c = a%b\n",
        "print(c)"
      ],
      "metadata": {
        "colab": {
          "base_uri": "https://localhost:8080/"
        },
        "id": "_Cr1zfuuSXZy",
        "outputId": "4123a11a-a7b8-445d-d360-739d3293bf32"
      },
      "execution_count": 11,
      "outputs": [
        {
          "output_type": "stream",
          "name": "stdout",
          "text": [
            "3\n",
            "-1\n",
            "2\n",
            "0.5\n",
            "1\n",
            "1\n"
          ]
        }
      ]
    },
    {
      "cell_type": "code",
      "source": [
        "# Conditional Statement\n",
        "\n",
        "num = int(input('Enter any number:'))\n",
        "if num % 2 == 0:\n",
        "  print('Even Number')\n",
        "else:\n",
        "  print('Odd Number')"
      ],
      "metadata": {
        "colab": {
          "base_uri": "https://localhost:8080/"
        },
        "id": "V3OVEZmHXFeq",
        "outputId": "9b130f84-4b44-4742-ebbf-28c934f23ebc"
      },
      "execution_count": 12,
      "outputs": [
        {
          "output_type": "stream",
          "name": "stdout",
          "text": [
            "Enter any number:56\n",
            "Even Number\n"
          ]
        }
      ]
    },
    {
      "cell_type": "code",
      "source": [
        "# Comparison Operator\n",
        "a = 7\n",
        "b = 8\n",
        "\n",
        "print(a == b)\n",
        "print(a != b)\n",
        "print(a < b)\n",
        "print(a > b)\n",
        "print(a <= b)\n",
        "print(a >= b)\n"
      ],
      "metadata": {
        "colab": {
          "base_uri": "https://localhost:8080/"
        },
        "id": "1o7PlM82XvSB",
        "outputId": "ef495339-4a6c-44c7-8c33-a7b69dd13422"
      },
      "execution_count": 13,
      "outputs": [
        {
          "output_type": "stream",
          "name": "stdout",
          "text": [
            "False\n",
            "True\n",
            "True\n",
            "False\n",
            "True\n",
            "False\n"
          ]
        }
      ]
    }
  ]
}